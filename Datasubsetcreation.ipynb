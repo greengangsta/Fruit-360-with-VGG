{
 "cells": [
  {
   "cell_type": "code",
   "execution_count": 9,
   "metadata": {},
   "outputs": [],
   "source": [
    "import os"
   ]
  },
  {
   "cell_type": "code",
   "execution_count": 10,
   "metadata": {},
   "outputs": [],
   "source": [
    "def mkdir(p):\n",
    "    if not os.path.exists(p):\n",
    "        os.mkdir(p)\n"
   ]
  },
  {
   "cell_type": "code",
   "execution_count": 11,
   "metadata": {},
   "outputs": [],
   "source": [
    "def link(src,dst):\n",
    "    if not os.path.exists(dst):\n",
    "        os.symlink(src,dst,target_is_directory = True)"
   ]
  },
  {
   "cell_type": "code",
   "execution_count": 12,
   "metadata": {},
   "outputs": [],
   "source": [
    "mkdir('fruits-360-small')"
   ]
  },
  {
   "cell_type": "code",
   "execution_count": 13,
   "metadata": {},
   "outputs": [],
   "source": [
    "classes = [\n",
    "    'Apple Golden 1',\n",
    "    'Avocado',\n",
    "    'Lemon',\n",
    "    'Mango',\n",
    "    'Kiwi',\n",
    "    'Banana',\n",
    "    'Strawberry',\n",
    "    'Raspberry',\n",
    "]"
   ]
  },
  {
   "cell_type": "code",
   "execution_count": 14,
   "metadata": {},
   "outputs": [],
   "source": [
    "train_path_from = os.path.abspath('fruits-360/Training')\n",
    "valid_path_from = os.path.abspath('fruits-360/Test')\n",
    "\n",
    "train_path_to = os.path.abspath('fruits-360-small/Training')\n",
    "valid_path_to = os.path.abspath('fruits-360-small/Test')\n",
    "\n",
    "mkdir(train_path_to)\n",
    "mkdir(valid_path_to)"
   ]
  },
  {
   "cell_type": "code",
   "execution_count": 16,
   "metadata": {},
   "outputs": [],
   "source": [
    "for c in classes:\n",
    "    link(train_path_from + '/' + c, train_path_to + '/' + c)\n",
    "    link(valid_path_from + '/' + c, valid_path_to + '/' + c)"
   ]
  },
  {
   "cell_type": "code",
   "execution_count": null,
   "metadata": {},
   "outputs": [],
   "source": []
  }
 ],
 "metadata": {
  "kernelspec": {
   "display_name": "Python 3",
   "language": "python",
   "name": "python3"
  },
  "language_info": {
   "codemirror_mode": {
    "name": "ipython",
    "version": 3
   },
   "file_extension": ".py",
   "mimetype": "text/x-python",
   "name": "python",
   "nbconvert_exporter": "python",
   "pygments_lexer": "ipython3",
   "version": "3.6.8"
  }
 },
 "nbformat": 4,
 "nbformat_minor": 2
}
